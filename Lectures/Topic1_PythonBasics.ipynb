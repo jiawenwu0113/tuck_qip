{
 "cells": [
  {
   "cell_type": "markdown",
   "metadata": {},
   "source": [
    "# <span style='color:red'>Quantitative Investing with Python</span>\n",
    "\n",
    "### Professor Juhani Linnainmaa\n",
    "\n",
    "Dartmouth College and Kepos Capital (Co-Director of Research)\n",
    "\n",
    "--- \n",
    "\n",
    "## **Learning objective:**\n",
    "\n",
    "- Working knowledge of quantitative investing: **how to construct and backtest trading strategies**\n",
    "  - Factor investing / alternative risk premiums\n",
    "  - Brief introduction to statistical arbitrage (time permitting)\n",
    "\n",
    "## **Goals:**\n",
    "\n",
    "1. Basics of using Python \n",
    "   - Python coding is often done in an IDE such as PyCharm/VSCode or in **Jupyter notebooks**\n",
    "   - Jupyter notebooks are convenient in that you can write notes and code side by side and, because code is executed in steps, debugging is easy\n",
    "   - We can write standalone 'scripts' or larger projects that consist of multiple files\n",
    "     - Python files typically have .py extensions; notebooks have .ipynb extensions\n",
    "   - We will use Jupyter Lab through Dartmouth's own system at jhub.dartmouth.edu\n",
    "   - The goal is to get you up and running to the point where you know where to look up more information\n",
    "   - **If** you work in an organization that uses Python, there would likely be a common codebase (repository) that is maintained with git or svn \n",
    "\n",
    "\n",
    "2. Loading and analyzing financial data\n",
    "   - Get data from public sources using APIs as well as from commonly used databases (CRSP and Compustat)\n",
    "   - Explore data\n",
    "\n",
    "\n",
    "3. Construct academic factors\n",
    "   - Understanding the decisions made for constructing factors\n",
    "   - Examine sensitivity to the strategy rules: when you construct a trading rule, you have to make many decisions about *what* and *how* you trade\n",
    "   - Construct additional factors\n",
    "\n",
    "\n",
    "4. Predict stock returns and trade these predictions\n",
    "   - Overfitting\n",
    "\n",
    "## **Learning method:**\n",
    "\n",
    "- Learn by doing: we write and modify some code to understand how things can be done and give ideas of what is possible\n",
    "\n",
    "---\n",
    "\n",
    "Outside the scope of this course:\n",
    "\n",
    "- Multiperiod optimization with trading costs"
   ]
  },
  {
   "cell_type": "markdown",
   "metadata": {},
   "source": [
    "# **Topic 1:** Getting Familiar with Python"
   ]
  },
  {
   "cell_type": "markdown",
   "metadata": {},
   "source": [
    "## Working with Jupyter notebooks\n",
    "\n",
    "A <span style='color:red'>Jupyter notebook</span> consists of cells\n",
    "\n",
    "There are two types of cells: code and markdown\n",
    "\n",
    "When we work with notebooks, we create, delete, and modify cells and execute code in those cells\n",
    "\n",
    "We are either in **edit** or **command** mode\n",
    "- In the EDIT mode you are inside a cell with a blinking cursor\n",
    "- In the COMMAND mode you are outside the cell\n",
    "- You can move from the COMMAND mode to EDIT mode by hitting ENTER; you move from EDIT model to COMMAND mode by hitting ESC\n",
    "\n",
    "Here are the keyboard shortcuts in the **command** mode:\n",
    "\n",
    "- Up- and down-arrows: move up and down between cells\n",
    "- A: create a new cell above\n",
    "- B: create a new cell below\n",
    "- X: delete cell\n",
    "- Z: undo (e.g., undelete cell)\n",
    "- M: convert a CODE cell into a MARKDOWN cell \n",
    "- Y: convert a MARKDOWN cell into a CODE cell\n",
    "\n",
    "To execute code, press CTRL + ENTER in either model"
   ]
  },
  {
   "cell_type": "markdown",
   "metadata": {},
   "source": [
    "## Background on Python\n",
    "\n",
    "When you start a new Python session, there is nothing (except basic Python) in the memory\n",
    "- This is true even if you open an old notebook that has code in it\n",
    "\n",
    "When we run code in cells, objects get defined and they remain in memory\n",
    "\n",
    "There is a counter next to each cell that has been executed to indicate the execution order\n",
    "\n",
    "You can clear the memory by **restarting the kernel**\n",
    "- Each notebook (if you have many open) has its own kernel\n",
    "\n",
    "If you execute code and want to force it to stop, you can **interrupt the kernel**\n",
    "- Execution breaks but memory isn't cleared (but whatever *was* executed has altered objects)\n",
    "\n",
    "## Object-oriented programming language \n",
    "\n",
    "Python is object oriented programming language\n",
    "- This means that most of the things in the language are objects with their own properties and methods\n",
    "- What does this mean?\n",
    "  - If we have list of numbers, we (typically) would **not** call a separate function to add an element to that list\n",
    "    \n",
    "    MY_LIST = [1, 2, 3]\n",
    "    MY_LIST = ADD_ITEM(MY_LIST, 4)\n",
    "    \n",
    "  - Rather, if you have a list, the list object itself has a number of methods for doing things to it, such as appending a new element:\n",
    "  \n",
    "    MY_LIST = [1, 2, 3]\n",
    "    MY_LIST.append(4)\n",
    "    \n",
    "- There is a thing in Python about modifying objects **in place** versus returning a copy. Append modifies in place.\n",
    "- **What does this mean?** In a language such as Python you'll see lots of methods being applied to objects. \n",
    "  - This will be *extremely* convenient when we work with data because we can \"chain\" methods\n",
    "  - Instead of writing 10 lines of code to reshape and filter your data, you can do it in 1 line\n",
    "- If you haven't done OOP, just go with it and it'll make sense/click at some point \n",
    "\n",
    "## Extending basic Python\n",
    "\n",
    "When you start a new session, Python comes in with certain basic set of commands \n",
    "\n",
    "However, we typically want to extend functionality by bringing in additional functions written by others\n",
    "\n",
    "Almost every Python example that you see starts with a bunch of **import** statements, such as \n",
    "\n",
    "```\n",
    "import numpy as np\n",
    "import pandas as pd\n",
    "```\n",
    "\n",
    "I'll come back to the meaning of these statements after introducing some basics\n",
    "\n",
    "- To see what methods an object has, write [object]. and press tab\n",
    "  - You can also use this to autocomplete\n",
    "\n",
    "- To see information about objects and \"docstring\" (manual page), write object? or object??\n",
    "  - You can also see a function's signature by pressing SHIFT+TAB inside the parentheses"
   ]
  },
  {
   "cell_type": "markdown",
   "metadata": {},
   "source": [
    "## Introduction\n",
    "\n",
    "- We can define variables to contain (or, rather, refer to) single numbers, lists of numbers, arrays (vectors and matrices) or data\n",
    "- There are many different object types in Python\n",
    "- We have the first code cell below\n",
    "  - If we want to add comments into a code block, we can do so by putting the # symbol before the comment\n",
    "  - If we want to have longer comments, we use triple quotation marks "
   ]
  },
  {
   "cell_type": "code",
   "execution_count": null,
   "metadata": {},
   "outputs": [],
   "source": [
    "# Strings: Define a string and print it\n",
    "\n",
    "x = 'Hello world!'\n",
    "print(x)\n",
    "\n",
    "# Define another string -- Python does both single and double-quotation marks\n",
    "y = \"Hello world pt. 2!\"\n",
    "print(y)\n",
    "\n",
    "# Why? You might want to have quotes inside a string (more easily)\n",
    "z = 'Here is a \"quote\" from someone'\n",
    "print(z)"
   ]
  },
  {
   "cell_type": "code",
   "execution_count": null,
   "metadata": {},
   "outputs": [],
   "source": [
    "# Integers and Floats\n",
    "\n",
    "x = 1\n",
    "y = 1.7\n",
    "\n",
    "print(x+y)"
   ]
  },
  {
   "cell_type": "code",
   "execution_count": null,
   "metadata": {},
   "outputs": [],
   "source": [
    "# List is a list of multiple objects, e.g., strings or number. It is indicated by square brackets.\n",
    "\n",
    "L = [1, 2, 3, 10, 27]\n",
    "print(L)"
   ]
  },
  {
   "cell_type": "code",
   "execution_count": null,
   "metadata": {},
   "outputs": [],
   "source": [
    "# Tuple is a list-like object that cannot be changed (mutated) after its created. \n",
    "# Indicate by parentheses ()\n",
    "# This means that it can be used in places where a list wouldn't work (e.g., as a dictionary key)\n",
    "\n",
    "my_list = [1, 2, 3]\n",
    "print('My original list: ', my_list)\n",
    "\n",
    "my_list[1] = 99\n",
    "print('\\nMy updated list: ', my_list)\n",
    "\n",
    "my_tuple = (1, 2, 3)\n",
    "print('\\nMy original tuple: ', my_tuple)\n",
    "\n",
    "print('\\nTrying to change my tuple will give an error:')\n",
    "\n",
    "#my_tuple[1] = 99"
   ]
  },
  {
   "cell_type": "code",
   "execution_count": null,
   "metadata": {},
   "outputs": [],
   "source": [
    "my_tuple"
   ]
  },
  {
   "cell_type": "code",
   "execution_count": null,
   "metadata": {},
   "outputs": [],
   "source": [
    "# Dictionary is a \"list\" of key-value pairs. The values can be accessed by using the key\n",
    "\n",
    "D = {'student1': 'John',\n",
    "     'student2': 'Mary',\n",
    "     'student3': 'Michael',\n",
    "     'student4': 'Alice'}\n",
    "\n",
    "print(D['student1'])\n",
    "print(D['student3'])"
   ]
  },
  {
   "cell_type": "markdown",
   "metadata": {},
   "source": [
    "- There are many small things that are specific to Python\n",
    "- The simple things are easy to learn and if you've done any coding, the logic is the same as always\n",
    "- But there are lots of small things:\n",
    "  - += and -=\n",
    "  - Variables: by reference or create a new variable? \n",
    "  - f-strings (formatted strings)\n",
    "  - The use of indentation in if-else and loops\n",
    "  - Iterating and generators \n",
    "  - Unpacking \n",
    "  - Indexing starts at zero and we stop before the stop value\n",
    "  - List comprehensions\n",
    "  - Lambda functions\n",
    "  - Ternary expressions\n",
    "- What makes learning Python is a bit tricky is that when you read code, you'll inevitably run into all these \"small things\" -- and it is easy to get lost\n",
    "  - Moving to larger scale projects, there are classes and class inheritances that would need some studying to understand"
   ]
  },
  {
   "cell_type": "code",
   "execution_count": null,
   "metadata": {},
   "outputs": [],
   "source": [
    "# By reference\n",
    "\n",
    "a = [1, 2, 3]\n",
    "b = a\n",
    "c = a.copy()\n",
    "\n",
    "print(f'{a=} and {b=} and {c=}')\n",
    "\n",
    "a += [5]\n",
    "\n",
    "print(f'{a=} and {b=} and {c=}')\n",
    "\n",
    "print('both a and b refer to the same object, c is its own object!')"
   ]
  },
  {
   "cell_type": "code",
   "execution_count": null,
   "metadata": {},
   "outputs": [],
   "source": [
    "# there is no *end* or {} brackets in if-else statements. We indent to identicate the start and end.\n",
    "# elif stands for \"else if\"\n",
    "\n",
    "a = 3\n",
    "\n",
    "if a==1:\n",
    "    print('Number one')\n",
    "elif a==2:\n",
    "    print('Number two')\n",
    "elif a==3:\n",
    "    print('Number three')\n",
    "else:\n",
    "    print('Something else')"
   ]
  },
  {
   "cell_type": "code",
   "execution_count": null,
   "metadata": {},
   "outputs": [],
   "source": [
    "# We often iterate (go through, item by item) through, e.g., lists\n",
    "\n",
    "# Note that in Python we don't have create a loop and then access the elements; the loop automatically stops when we've looped through all items\n",
    "my_list = [1, 1, 2, 3, 5, 8, 13]\n",
    "\n",
    "for item in my_list:\n",
    "    print(item)"
   ]
  },
  {
   "cell_type": "code",
   "execution_count": null,
   "metadata": {},
   "outputs": [],
   "source": [
    "# We can define 'generators' that we can then iterate to yield values one by one; \n",
    "# this is like the list above, \"generating\" new values as we call it\n",
    "# \"range\" is one of these generators\n",
    "# we need to specify the STOP value.\n",
    "\n",
    "my_range = range(10)\n",
    "for r in my_range:\n",
    "    print(r)\n",
    "\n",
    "print('Note that the list starts at 0 and it stops BEFORE it sees the STOP value of 10')"
   ]
  },
  {
   "cell_type": "code",
   "execution_count": null,
   "metadata": {},
   "outputs": [],
   "source": [
    "# List comprehensions is popular Python feature for creating lists (or dictionaries) without having to loop\n",
    "# Any time you want to create a list of something based on some rule (take out some letters, apply some \n",
    "# transfomration, add something, filter based on some rule...) you can probably use list comprehensions\n",
    "\n",
    "# If I want to create a list that says Student_1, Student_2,..., Student_10, I could write:\n",
    "\n",
    "student_list = ['Student_' + str(n) for n in range(1,11)]\n",
    "print(student_list)"
   ]
  },
  {
   "cell_type": "code",
   "execution_count": null,
   "metadata": {},
   "outputs": [],
   "source": [
    "# If I have a list of numbers and want to pick just the numbers *not* divisible by three:\n",
    "\n",
    "my_list = list(range(1,51))\n",
    "print('My numbers: ', end='')\n",
    "print(my_list)\n",
    "\n",
    "not_by_three = [n for n in my_list if not (n % 3) == 0]\n",
    "\n",
    "print('\\nTake out those divisible by three: ', end='')\n",
    "print(not_by_three)"
   ]
  },
  {
   "cell_type": "markdown",
   "metadata": {},
   "source": [
    "### Functions\n",
    "\n",
    "- Functions are defined with def (function_name)\n",
    "- They can have \"positional\" or \"keyword\" arguments (a positional argument is identified by its position, a keyword argument has a name)\n",
    "- Similar to other blocks, the beginning and end are identified with indentation\n",
    "- Functions typically return something"
   ]
  },
  {
   "cell_type": "code",
   "execution_count": null,
   "metadata": {},
   "outputs": [],
   "source": [
    "def add_exclamation_mark(input_str):\n",
    "    output_str = input_str + \"!\"\n",
    "    return output_str"
   ]
  },
  {
   "cell_type": "code",
   "execution_count": null,
   "metadata": {},
   "outputs": [],
   "source": [
    "print('Write something and press enter:')\n",
    "my_input = input('-> ')\n",
    "\n",
    "print('\\nYou wrote: ' + my_input)\n",
    "\n",
    "output = add_exclamation_mark(my_input)\n",
    "\n",
    "print('\\nHere is what we get after applying the function: ' + output)\n"
   ]
  },
  {
   "cell_type": "markdown",
   "metadata": {},
   "source": [
    "### Lambda functions are for convenience for creating small 'anonymous' functions\n",
    "\n",
    "- They have a weird syntax -- before you get used to it\n",
    "- Lambda functions are useful when you need to do some transformation on the fly (e.g., list comprehensions, applying something to every value in your data, etc.)\n",
    "- **Key thing to remember at first**: when you see \"lambda\", it means that some function is being created on the fly for one-off use \n",
    "  - We *can* use lambda to define named functions (as I do below), but it is considered bad form"
   ]
  },
  {
   "cell_type": "code",
   "execution_count": null,
   "metadata": {},
   "outputs": [],
   "source": [
    "add_question_mark = lambda input_str: input_str + '?'"
   ]
  },
  {
   "cell_type": "code",
   "execution_count": null,
   "metadata": {},
   "outputs": [],
   "source": [
    "print('Write something and press enter:')\n",
    "my_input = input('-> ')\n",
    "\n",
    "print('\\nYou wrote: ' + my_input)\n",
    "\n",
    "output = add_question_mark(my_input)\n",
    "\n",
    "print('\\nHere is what we get after applying the (lambda) function: \\n\\n' + output)"
   ]
  },
  {
   "cell_type": "markdown",
   "metadata": {},
   "source": [
    "A typical example of using lambda functions is when sorting something\n",
    "\n",
    "- Below, create a dictionary of four people with their ages\n",
    "- Suppose we want to list these people "
   ]
  },
  {
   "cell_type": "code",
   "execution_count": null,
   "metadata": {},
   "outputs": [],
   "source": [
    "unsorted_people = [('Alice', 30), ('Bob', 25), ('Cindy', 10), ('Daphne', 37)]\n",
    "sorted(unsorted_people, key=lambda x: x[1])"
   ]
  },
  {
   "cell_type": "markdown",
   "metadata": {},
   "source": [
    "### Unpacking lists and tuples\n",
    "\n",
    "- Unpacking refers to extracting values from lists etc. and assigning them into different variables\n",
    "- There is a special unpacking * operator that is used in different places in Python. Below, I use it to get \"everything in the middle\""
   ]
  },
  {
   "cell_type": "code",
   "execution_count": null,
   "metadata": {},
   "outputs": [],
   "source": [
    "my_list = [1, 8]\n",
    "a, b = my_list\n",
    "print(f'{a=} and {b=}')\n",
    "\n",
    "my_other_list = [1, 2, 3, 4, 5, 8]\n",
    "a, *b, c = my_other_list\n",
    "\n",
    "print(f'{a=} and {b=} and {c=}')"
   ]
  },
  {
   "cell_type": "markdown",
   "metadata": {},
   "source": [
    "# Expanding capabilities -- Importing packages\n",
    "\n",
    "- When you start Python, it comes with a limited set of functions\n",
    "- However, even base Python includes many other functions but they have to be imported\n",
    "- We don't want to have a system that has everything in it -- it would \"pollute the namespace\" and create overhead\n",
    "- We typically just import what we need\n",
    "- Python code typically begins with a block of import statements\n",
    "  - When you write code, you realize you need something else and then you add that to the list of packages you import\n",
    "  \n",
    "#### Details\n",
    "\n",
    "- We can import everything from a package (don't), we can import the package with some alias (so that everything can be accessed through that alias), or we can import specific functions from a package\n",
    "- Typical packages as numpy (for matrices and math) and pandas (for data science). We often import datetime function from datetime package\n",
    "- So we could have the following:"
   ]
  },
  {
   "cell_type": "code",
   "execution_count": null,
   "metadata": {},
   "outputs": [],
   "source": [
    "import numpy as np\n",
    "import pandas as pd\n",
    "from datetime import datetime\n",
    "\n",
    "A = np.array([[1, 2, 0], [4, 5, 6], [7, 8, 9]])\n",
    "\n",
    "print('Original matrix:')\n",
    "print(A)\n",
    "print('\\nInverse of the matrix:')\n",
    "print(np.linalg.inv(A))\n",
    "\n",
    "df = pd.DataFrame({'col a': [1, 2, 3], 'col b': [10, 11, 12]})\n",
    "print('\\nA dataframe:')\n",
    "print(df)\n",
    "print('\\n')\n",
    "\n",
    "print(datetime(2023,9,23))"
   ]
  },
  {
   "cell_type": "code",
   "execution_count": null,
   "metadata": {},
   "outputs": [],
   "source": [
    "import yfinance as yf\n",
    "from datetime import datetime, timedelta\n",
    "\n",
    "# Define the ticker symbols for Apple and Google\n",
    "ticker_symbols = ['AAPL', 'GOOGL']\n",
    "\n",
    "# Define the start and end dates for the data\n",
    "end_date = datetime.today()\n",
    "start_date = end_date - timedelta(days=5 * 365)  # Five years ago\n",
    "\n",
    "# Download the data for each stock\n",
    "stock_data = yf.download(ticker_symbols, start=start_date, end=end_date)\n",
    "\n",
    "# Print the first few rows of the downloaded data\n",
    "print(stock_data.head())"
   ]
  },
  {
   "cell_type": "code",
   "execution_count": null,
   "metadata": {},
   "outputs": [],
   "source": []
  }
 ],
 "metadata": {
  "kernelspec": {
   "display_name": "Python 3",
   "language": "python",
   "name": "python3"
  },
  "language_info": {
   "codemirror_mode": {
    "name": "ipython",
    "version": 3
   },
   "file_extension": ".py",
   "mimetype": "text/x-python",
   "name": "python",
   "nbconvert_exporter": "python",
   "pygments_lexer": "ipython3",
   "version": "3.8.5"
  }
 },
 "nbformat": 4,
 "nbformat_minor": 4
}
