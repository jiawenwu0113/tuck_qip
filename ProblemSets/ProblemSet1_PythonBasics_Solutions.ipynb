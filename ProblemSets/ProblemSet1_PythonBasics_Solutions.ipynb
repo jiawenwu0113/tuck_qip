{
 "cells": [
  {
   "cell_type": "markdown",
   "metadata": {},
   "source": [
    "# Solutions to <span style='color:red'>Problem Set 1: Python Basics</span>\n",
    "\n",
    "## Instructions:\n",
    "\n",
    "- Enter the answers directly on this notebook\n",
    "  - In most cases, you just need to execute the code and leave the output as it is\n",
    "- All of the code needed here can be found in Topic1_PythonBasics \n",
    "- In some cases, I ask you to explain something. In the cases, there is an extra markup cell (**ANSWER:**) that you can fill out \n",
    "- When you are done, select \"Print...\" from the File-menu and create a PDF of the notebook\n",
    "  - Submit this notebook through canvas\n",
    "  - You can also submit the notebook as an .html file -- but please don't submit it as a notebook (.ipynb) file"
   ]
  },
  {
   "cell_type": "markdown",
   "metadata": {},
   "source": [
    "## Problem 1\n",
    "\n",
    "### a. Assign string \"Quantitative\" to variable **S** and use the print statement to print this string"
   ]
  },
  {
   "cell_type": "code",
   "execution_count": 1,
   "metadata": {},
   "outputs": [
    {
     "name": "stdout",
     "output_type": "stream",
     "text": [
      "Quantitative\n"
     ]
    }
   ],
   "source": [
    "S = 'Quantitative'\n",
    "print(S)"
   ]
  },
  {
   "cell_type": "markdown",
   "metadata": {},
   "source": [
    "### b. Assign string \" Finance\" to variable **T**. In Python, you can join strings using the + symbol. Let's try this out. After creating these two variables, print S + T"
   ]
  },
  {
   "cell_type": "code",
   "execution_count": 2,
   "metadata": {},
   "outputs": [
    {
     "name": "stdout",
     "output_type": "stream",
     "text": [
      "Quantitative Finance\n"
     ]
    }
   ],
   "source": [
    "T = \" Finance\"\n",
    "print(S + T)"
   ]
  },
  {
   "cell_type": "markdown",
   "metadata": {},
   "source": [
    "### c. \"Slicing\" in Python refers to accessing continuous range of elements. It is very useful in handling data, e.g., when you want to have all data from some start date to some end date. We can also slice strings: each character is its own element\n",
    "\n",
    "The syntax for slicing is *var*[start:stop], where 'start' indicates the first element we include and 'stop' indicates the element *before* which we stop\n",
    "\n",
    "Below, slice variable **S** using the following start and stop values:\n",
    "\n",
    "- start = 1, stop = 5. (That is, write and execute S[1:5])\n",
    "- start = 0, stop = 5\n",
    "\n",
    "Based on these, what is the index of the first element, that is, letter 'Q' in our case?"
   ]
  },
  {
   "cell_type": "code",
   "execution_count": 5,
   "metadata": {},
   "outputs": [
    {
     "name": "stdout",
     "output_type": "stream",
     "text": [
      "Start = 1, stop = 5: uant\n",
      "Start = 0, stop = 5: Quant\n"
     ]
    }
   ],
   "source": [
    "print('Start = 1, stop = 5:', S[1:5])\n",
    "print('Start = 0, stop = 5:', S[0:5])"
   ]
  },
  {
   "cell_type": "markdown",
   "metadata": {},
   "source": [
    "**Answer:** Indexing in Python starts at 0. There index 0 in S has letter 'Q'"
   ]
  },
  {
   "cell_type": "markdown",
   "metadata": {},
   "source": [
    "## Problem 2\n",
    "\n",
    "- Create a list that contains values 1, 1, 2, 3, 5, 8, and 13\n",
    "- Loop through this list, and \n",
    "- Print each value"
   ]
  },
  {
   "cell_type": "code",
   "execution_count": 6,
   "metadata": {},
   "outputs": [
    {
     "name": "stdout",
     "output_type": "stream",
     "text": [
      "1\n",
      "1\n",
      "2\n",
      "3\n",
      "5\n",
      "8\n",
      "13\n"
     ]
    }
   ],
   "source": [
    "L = [1, 1, 2, 3, 5, 8, 13]\n",
    "\n",
    "for element in L:\n",
    "    print(element)"
   ]
  },
  {
   "cell_type": "markdown",
   "metadata": {},
   "source": [
    "## Problem 3\n",
    "\n",
    "### a. Create a dictionary called **D** that contains names and scores for four students: Andy, Brett, Cindy, and Dave (make up the scores)\n",
    "\n",
    "Write and execute D['Brett'] to display the Brett's score "
   ]
  },
  {
   "cell_type": "code",
   "execution_count": 8,
   "metadata": {},
   "outputs": [
    {
     "data": {
      "text/plain": [
       "31"
      ]
     },
     "execution_count": 8,
     "metadata": {},
     "output_type": "execute_result"
    }
   ],
   "source": [
    "# Create the dictionary \n",
    "\n",
    "D = {'Andy': 27,\n",
    "    'Brett': 31,\n",
    "    'Cindy': 38,\n",
    "    'Dave': 16}\n",
    "\n",
    "D['Brett']"
   ]
  },
  {
   "cell_type": "markdown",
   "metadata": {},
   "source": [
    "### b. Write and execute D['Erica']. What happens?"
   ]
  },
  {
   "cell_type": "code",
   "execution_count": 9,
   "metadata": {},
   "outputs": [
    {
     "ename": "KeyError",
     "evalue": "'Erica'",
     "output_type": "error",
     "traceback": [
      "\u001b[0;31m---------------------------------------------------------------------------\u001b[0m",
      "\u001b[0;31mKeyError\u001b[0m                                  Traceback (most recent call last)",
      "\u001b[0;32m<ipython-input-9-30f0e5efc0b9>\u001b[0m in \u001b[0;36m<module>\u001b[0;34m\u001b[0m\n\u001b[0;32m----> 1\u001b[0;31m \u001b[0mD\u001b[0m\u001b[0;34m[\u001b[0m\u001b[0;34m'Erica'\u001b[0m\u001b[0;34m]\u001b[0m\u001b[0;34m\u001b[0m\u001b[0;34m\u001b[0m\u001b[0m\n\u001b[0m",
      "\u001b[0;31mKeyError\u001b[0m: 'Erica'"
     ]
    }
   ],
   "source": [
    "D['Erica']"
   ]
  },
  {
   "cell_type": "markdown",
   "metadata": {},
   "source": [
    "**Answer:** Our dictionary doesn't have a key for student 'Erica' and so we get a KeyError"
   ]
  },
  {
   "cell_type": "markdown",
   "metadata": {},
   "source": [
    "### c. Write and execute D.get('Erica') and D.get('Erica', 0)\n",
    "\n",
    "Why would this 'get' statement be useful when you write code and use dictionaries?"
   ]
  },
  {
   "cell_type": "code",
   "execution_count": 13,
   "metadata": {},
   "outputs": [],
   "source": [
    "D.get('Erica')"
   ]
  },
  {
   "cell_type": "code",
   "execution_count": 11,
   "metadata": {},
   "outputs": [
    {
     "data": {
      "text/plain": [
       "0"
      ]
     },
     "execution_count": 11,
     "metadata": {},
     "output_type": "execute_result"
    }
   ],
   "source": [
    "D.get('Erica', 0)"
   ]
  },
  {
   "cell_type": "markdown",
   "metadata": {},
   "source": [
    "**Answer:** We can use the .get() method to try to retrieve values from dictionary when we don't check whether or not a key exists. By default, it returns 'None' if the key doesn't exist in the dictionary. With the second argument (here, 0), it returns this second argument as the default value when the key doesn't exist."
   ]
  },
  {
   "cell_type": "markdown",
   "metadata": {},
   "source": [
    "## Problem 4\n",
    "\n",
    "### a. The following code downloads some data from Yahoo finance. \n",
    "\n",
    "Modify and then execute this code so that it downloads data for IBM, General Electric, and Gamestop instead\n",
    "\n",
    "- You need to look up these companies' tickers symbols"
   ]
  },
  {
   "cell_type": "code",
   "execution_count": 14,
   "metadata": {},
   "outputs": [
    {
     "name": "stdout",
     "output_type": "stream",
     "text": [
      "[*********************100%***********************]  3 of 3 completed\n"
     ]
    },
    {
     "data": {
      "text/html": [
       "<div>\n",
       "<style scoped>\n",
       "    .dataframe tbody tr th:only-of-type {\n",
       "        vertical-align: middle;\n",
       "    }\n",
       "\n",
       "    .dataframe tbody tr th {\n",
       "        vertical-align: top;\n",
       "    }\n",
       "\n",
       "    .dataframe thead th {\n",
       "        text-align: right;\n",
       "    }\n",
       "</style>\n",
       "<table border=\"1\" class=\"dataframe\">\n",
       "  <thead>\n",
       "    <tr style=\"text-align: right;\">\n",
       "      <th></th>\n",
       "      <th>GE</th>\n",
       "      <th>GME</th>\n",
       "      <th>IBM</th>\n",
       "    </tr>\n",
       "    <tr>\n",
       "      <th>Date</th>\n",
       "      <th></th>\n",
       "      <th></th>\n",
       "      <th></th>\n",
       "    </tr>\n",
       "  </thead>\n",
       "  <tbody>\n",
       "    <tr>\n",
       "      <th>2024-02-05</th>\n",
       "      <td>0.856902</td>\n",
       "      <td>-8.621857</td>\n",
       "      <td>-1.275625</td>\n",
       "    </tr>\n",
       "    <tr>\n",
       "      <th>2024-02-06</th>\n",
       "      <td>-0.094405</td>\n",
       "      <td>4.754832</td>\n",
       "      <td>-0.005448</td>\n",
       "    </tr>\n",
       "    <tr>\n",
       "      <th>2024-02-07</th>\n",
       "      <td>0.668701</td>\n",
       "      <td>-0.212771</td>\n",
       "      <td>0.179921</td>\n",
       "    </tr>\n",
       "    <tr>\n",
       "      <th>2024-02-08</th>\n",
       "      <td>0.397114</td>\n",
       "      <td>1.990055</td>\n",
       "      <td>1.252196</td>\n",
       "    </tr>\n",
       "    <tr>\n",
       "      <th>2024-02-09</th>\n",
       "      <td>0.165405</td>\n",
       "      <td>2.160275</td>\n",
       "      <td>1.073983</td>\n",
       "    </tr>\n",
       "  </tbody>\n",
       "</table>\n",
       "</div>"
      ],
      "text/plain": [
       "                  GE       GME       IBM\n",
       "Date                                    \n",
       "2024-02-05  0.856902 -8.621857 -1.275625\n",
       "2024-02-06 -0.094405  4.754832 -0.005448\n",
       "2024-02-07  0.668701 -0.212771  0.179921\n",
       "2024-02-08  0.397114  1.990055  1.252196\n",
       "2024-02-09  0.165405  2.160275  1.073983"
      ]
     },
     "metadata": {},
     "output_type": "display_data"
    }
   ],
   "source": [
    "import pandas as pd\n",
    "import yfinance as yf\n",
    "from datetime import datetime\n",
    "\n",
    "# Create a list that contains the tickers we want to retrieve\n",
    "ticker_symbols = ['IBM', 'GE', 'GME']\n",
    "\n",
    "# Define the start and end dates for the data\n",
    "start_date = datetime(2019,1,1)\n",
    "end_date = datetime.today()    \n",
    "\n",
    "stock_data = yf.download(ticker_symbols, start=start_date, end=end_date)\n",
    "    \n",
    "stock_returns = 100 * stock_data.xs('Adj Close', axis=1, level=0).pct_change()\n",
    "\n",
    "display(stock_returns.tail(5))"
   ]
  },
  {
   "cell_type": "markdown",
   "metadata": {},
   "source": [
    "### b. Run the code below to get \"summary statistics\" for daily returns\n",
    "\n",
    "These daily returns are expressed in percentages, e.g., a value of 0.14 for the mean would indicate that the average return is 0.14% per day\n",
    "\n",
    "- Which stock had the highest mean return over this sample period?\n",
    "\n",
    "- Which stock had the highest one-day return over this sample period? How high was this return?"
   ]
  },
  {
   "cell_type": "code",
   "execution_count": 15,
   "metadata": {},
   "outputs": [
    {
     "data": {
      "text/html": [
       "<div>\n",
       "<style scoped>\n",
       "    .dataframe tbody tr th:only-of-type {\n",
       "        vertical-align: middle;\n",
       "    }\n",
       "\n",
       "    .dataframe tbody tr th {\n",
       "        vertical-align: top;\n",
       "    }\n",
       "\n",
       "    .dataframe thead th {\n",
       "        text-align: right;\n",
       "    }\n",
       "</style>\n",
       "<table border=\"1\" class=\"dataframe\">\n",
       "  <thead>\n",
       "    <tr style=\"text-align: right;\">\n",
       "      <th></th>\n",
       "      <th>GE</th>\n",
       "      <th>GME</th>\n",
       "      <th>IBM</th>\n",
       "    </tr>\n",
       "  </thead>\n",
       "  <tbody>\n",
       "    <tr>\n",
       "      <th>count</th>\n",
       "      <td>1285.000000</td>\n",
       "      <td>1285.000000</td>\n",
       "      <td>1285.000000</td>\n",
       "    </tr>\n",
       "    <tr>\n",
       "      <th>mean</th>\n",
       "      <td>0.116968</td>\n",
       "      <td>0.479722</td>\n",
       "      <td>0.074489</td>\n",
       "    </tr>\n",
       "    <tr>\n",
       "      <th>std</th>\n",
       "      <td>2.573061</td>\n",
       "      <td>9.187759</td>\n",
       "      <td>1.662105</td>\n",
       "    </tr>\n",
       "    <tr>\n",
       "      <th>min</th>\n",
       "      <td>-15.159238</td>\n",
       "      <td>-60.000000</td>\n",
       "      <td>-12.850736</td>\n",
       "    </tr>\n",
       "    <tr>\n",
       "      <th>25%</th>\n",
       "      <td>-1.178091</td>\n",
       "      <td>-2.886103</td>\n",
       "      <td>-0.650228</td>\n",
       "    </tr>\n",
       "    <tr>\n",
       "      <th>50%</th>\n",
       "      <td>0.047767</td>\n",
       "      <td>-0.255796</td>\n",
       "      <td>0.103051</td>\n",
       "    </tr>\n",
       "    <tr>\n",
       "      <th>75%</th>\n",
       "      <td>1.298707</td>\n",
       "      <td>2.576811</td>\n",
       "      <td>0.813010</td>\n",
       "    </tr>\n",
       "    <tr>\n",
       "      <th>max</th>\n",
       "      <td>14.729923</td>\n",
       "      <td>134.835802</td>\n",
       "      <td>11.301058</td>\n",
       "    </tr>\n",
       "  </tbody>\n",
       "</table>\n",
       "</div>"
      ],
      "text/plain": [
       "                GE          GME          IBM\n",
       "count  1285.000000  1285.000000  1285.000000\n",
       "mean      0.116968     0.479722     0.074489\n",
       "std       2.573061     9.187759     1.662105\n",
       "min     -15.159238   -60.000000   -12.850736\n",
       "25%      -1.178091    -2.886103    -0.650228\n",
       "50%       0.047767    -0.255796     0.103051\n",
       "75%       1.298707     2.576811     0.813010\n",
       "max      14.729923   134.835802    11.301058"
      ]
     },
     "execution_count": 15,
     "metadata": {},
     "output_type": "execute_result"
    }
   ],
   "source": [
    "stock_returns.describe()"
   ]
  },
  {
   "cell_type": "markdown",
   "metadata": {},
   "source": [
    "**Answers:**\n",
    "\n",
    "a) GME had the highest mean return over this sample period: 0.48%. (NOTE: Your precise answers will depend on when you executed the code!)\n",
    "\n",
    "b) GME had also the highest one-day return of 134.8%! This return occurred during the Meme Stock Craze. Here is a plot of (adjusted) Gamestop stock prices during that episode:"
   ]
  },
  {
   "cell_type": "code",
   "execution_count": 24,
   "metadata": {},
   "outputs": [
    {
     "data": {
      "image/png": "[encoded data removed]",
      "text/plain": [
       "<Figure size 864x576 with 1 Axes>"
      ]
     },
     "metadata": {
      "needs_background": "light"
     },
     "output_type": "display_data"
    }
   ],
   "source": [
    "stock_data.xs('Adj Close', axis=1, level=0)['GME'].loc['2020-10':'2021-06'].plot(figsize=(12,8));"
   ]
  },
  {
   "cell_type": "markdown",
   "metadata": {},
   "source": [
    "### c. The code below computes monthly stock returns and prints summary statistics for these returns\n",
    "\n",
    "Which stock was the most volatile, that is, which stock has the highest 'std'?"
   ]
  },
  {
   "cell_type": "code",
   "execution_count": 25,
   "metadata": {},
   "outputs": [
    {
     "data": {
      "text/html": [
       "<div>\n",
       "<style scoped>\n",
       "    .dataframe tbody tr th:only-of-type {\n",
       "        vertical-align: middle;\n",
       "    }\n",
       "\n",
       "    .dataframe tbody tr th {\n",
       "        vertical-align: top;\n",
       "    }\n",
       "\n",
       "    .dataframe thead th {\n",
       "        text-align: right;\n",
       "    }\n",
       "</style>\n",
       "<table border=\"1\" class=\"dataframe\">\n",
       "  <thead>\n",
       "    <tr style=\"text-align: right;\">\n",
       "      <th></th>\n",
       "      <th>GE</th>\n",
       "      <th>GME</th>\n",
       "      <th>IBM</th>\n",
       "    </tr>\n",
       "  </thead>\n",
       "  <tbody>\n",
       "    <tr>\n",
       "      <th>count</th>\n",
       "      <td>62.000000</td>\n",
       "      <td>62.000000</td>\n",
       "      <td>62.000000</td>\n",
       "    </tr>\n",
       "    <tr>\n",
       "      <th>mean</th>\n",
       "      <td>2.400111</td>\n",
       "      <td>27.619485</td>\n",
       "      <td>1.495017</td>\n",
       "    </tr>\n",
       "    <tr>\n",
       "      <th>std</th>\n",
       "      <td>11.556962</td>\n",
       "      <td>207.968845</td>\n",
       "      <td>6.909291</td>\n",
       "    </tr>\n",
       "    <tr>\n",
       "      <th>min</th>\n",
       "      <td>-26.949581</td>\n",
       "      <td>-68.695385</td>\n",
       "      <td>-14.767577</td>\n",
       "    </tr>\n",
       "    <tr>\n",
       "      <th>25%</th>\n",
       "      <td>-3.120300</td>\n",
       "      <td>-15.557655</td>\n",
       "      <td>-3.504208</td>\n",
       "    </tr>\n",
       "    <tr>\n",
       "      <th>50%</th>\n",
       "      <td>1.793837</td>\n",
       "      <td>-2.366920</td>\n",
       "      <td>1.688477</td>\n",
       "    </tr>\n",
       "    <tr>\n",
       "      <th>75%</th>\n",
       "      <td>7.937120</td>\n",
       "      <td>13.633259</td>\n",
       "      <td>6.249003</td>\n",
       "    </tr>\n",
       "    <tr>\n",
       "      <th>max</th>\n",
       "      <td>37.196769</td>\n",
       "      <td>1625.053065</td>\n",
       "      <td>16.673893</td>\n",
       "    </tr>\n",
       "  </tbody>\n",
       "</table>\n",
       "</div>"
      ],
      "text/plain": [
       "              GE          GME        IBM\n",
       "count  62.000000    62.000000  62.000000\n",
       "mean    2.400111    27.619485   1.495017\n",
       "std    11.556962   207.968845   6.909291\n",
       "min   -26.949581   -68.695385 -14.767577\n",
       "25%    -3.120300   -15.557655  -3.504208\n",
       "50%     1.793837    -2.366920   1.688477\n",
       "75%     7.937120    13.633259   6.249003\n",
       "max    37.196769  1625.053065  16.673893"
      ]
     },
     "execution_count": 25,
     "metadata": {},
     "output_type": "execute_result"
    }
   ],
   "source": [
    "monthly_stock_returns = 100 * ((1 + stock_data.xs('Adj Close', axis=1, level=0).pct_change()).resample('M').prod() - 1)\n",
    "monthly_stock_returns.describe()"
   ]
  },
  {
   "cell_type": "markdown",
   "metadata": {},
   "source": [
    "**Answer:** GME also had the highest volatility during the sample period because of the Meme stock episode "
   ]
  },
  {
   "cell_type": "markdown",
   "metadata": {},
   "source": [
    "### d. Execute the code below to plot the cumulative returns for the three stocks over the sample period\n",
    "\n",
    "The 'figsize' argument controls the shape of the plot. With a tuple (8, 10), the plot is 8 inches wide and 10 inches high. Change this argument so that the plot looks nice.\n",
    "\n",
    "Note: \n",
    "- The command below does 'method chaining' -- the line first computes the cumulative sum of returns and the plots the result\n",
    "- We *could* do this in two steps\n",
    "- But we often do method chaining in Python if we don't really need to save the intermediate results"
   ]
  },
  {
   "cell_type": "code",
   "execution_count": 26,
   "metadata": {},
   "outputs": [
    {
     "data": {
      "text/plain": [
       "<AxesSubplot:xlabel='Date'>"
      ]
     },
     "execution_count": 26,
     "metadata": {},
     "output_type": "execute_result"
    },
    {
     "data": {
      "image/png": "[encoded data removed]",
      "text/plain": [
       "<Figure size 576x720 with 1 Axes>"
      ]
     },
     "metadata": {
      "needs_background": "light"
     },
     "output_type": "display_data"
    }
   ],
   "source": [
    "stock_returns.cumsum().plot(figsize=(8,10))"
   ]
  },
  {
   "cell_type": "markdown",
   "metadata": {},
   "source": [
    "### e. The command below computes return correlations between the three stocks. The results are displayed in a symmetric 3x3 table \n",
    "\n",
    "Correlations are important in that they tell us how closely different stocks track each other\n",
    "\n",
    "- A number of 1.0 would indicate that the two stocks always move in perfect proportion to each other\n",
    "- A number of -1.0 would indicate that the two stocks always move in *opposite directions* in perfect proportion\n",
    "- A number of 0 would indicates that the two stocks are uncorrelated (think \"unrelated\")\n",
    "\n",
    "Which two stocks display the highest correlation?\n",
    "\n",
    "Which two stocks display the lowest correlation?"
   ]
  },
  {
   "cell_type": "code",
   "execution_count": 27,
   "metadata": {},
   "outputs": [
    {
     "data": {
      "text/html": [
       "<div>\n",
       "<style scoped>\n",
       "    .dataframe tbody tr th:only-of-type {\n",
       "        vertical-align: middle;\n",
       "    }\n",
       "\n",
       "    .dataframe tbody tr th {\n",
       "        vertical-align: top;\n",
       "    }\n",
       "\n",
       "    .dataframe thead th {\n",
       "        text-align: right;\n",
       "    }\n",
       "</style>\n",
       "<table border=\"1\" class=\"dataframe\">\n",
       "  <thead>\n",
       "    <tr style=\"text-align: right;\">\n",
       "      <th></th>\n",
       "      <th>GE</th>\n",
       "      <th>GME</th>\n",
       "      <th>IBM</th>\n",
       "    </tr>\n",
       "  </thead>\n",
       "  <tbody>\n",
       "    <tr>\n",
       "      <th>GE</th>\n",
       "      <td>1.00</td>\n",
       "      <td>0.17</td>\n",
       "      <td>0.50</td>\n",
       "    </tr>\n",
       "    <tr>\n",
       "      <th>GME</th>\n",
       "      <td>0.17</td>\n",
       "      <td>1.00</td>\n",
       "      <td>0.16</td>\n",
       "    </tr>\n",
       "    <tr>\n",
       "      <th>IBM</th>\n",
       "      <td>0.50</td>\n",
       "      <td>0.16</td>\n",
       "      <td>1.00</td>\n",
       "    </tr>\n",
       "  </tbody>\n",
       "</table>\n",
       "</div>"
      ],
      "text/plain": [
       "       GE   GME   IBM\n",
       "GE   1.00  0.17  0.50\n",
       "GME  0.17  1.00  0.16\n",
       "IBM  0.50  0.16  1.00"
      ]
     },
     "execution_count": 27,
     "metadata": {},
     "output_type": "execute_result"
    }
   ],
   "source": [
    "stock_returns.corr().round(2)"
   ]
  },
  {
   "cell_type": "markdown",
   "metadata": {},
   "source": [
    "**Answer:** \n",
    "\n",
    "- IBM and General Electric have the highest correlation (0.50)\n",
    "- Of the three pairs, the correlation between GME and IBM is the lowest (0.16)"
   ]
  }
 ],
 "metadata": {
  "kernelspec": {
   "display_name": "Python 3",
   "language": "python",
   "name": "python3"
  },
  "language_info": {
   "codemirror_mode": {
    "name": "ipython",
    "version": 3
   },
   "file_extension": ".py",
   "mimetype": "text/x-python",
   "name": "python",
   "nbconvert_exporter": "python",
   "pygments_lexer": "ipython3",
   "version": "3.8.5"
  }
 },
 "nbformat": 4,
 "nbformat_minor": 4
}
